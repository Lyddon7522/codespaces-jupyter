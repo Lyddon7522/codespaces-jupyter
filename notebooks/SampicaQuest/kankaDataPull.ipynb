{
 "cells": [
  {
   "cell_type": "code",
   "execution_count": null,
   "metadata": {},
   "outputs": [],
   "source": [
    "%pip install python-dotenv\n",
    "%pip install requests"
   ]
  },
  {
   "cell_type": "code",
   "execution_count": 22,
   "metadata": {},
   "outputs": [],
   "source": [
    "from dotenv import load_dotenv\n",
    "import os\n",
    "\n",
    "load_dotenv()\n",
    "\n",
    "api_key = os.getenv('api_key_kanka')\n",
    "campaignIdArchonus = os.getenv('campaignIdArchonus')\n",
    "campaignIdTelon= os.getenv('campaignIdTelon')"
   ]
  },
  {
   "cell_type": "code",
   "execution_count": 26,
   "metadata": {},
   "outputs": [],
   "source": [
    "import requests\n",
    "import json\n",
    "\n",
    "base_url = f\"https://api.kanka.io/1.0/campaigns\"\n",
    "headers = {\n",
    "    \"Authorization\": f\"Bearer {api_key}\",\n",
    "    \"Content-Type\": \"application/json\"\n",
    "}\n",
    "\n",
    "combined_data = []\n",
    "\n",
    "urls = [\n",
    "    f\"{base_url}/{campaignIdTelon}/journals\",\n",
    "    f\"{base_url}/{campaignIdArchonus}/journals\"\n",
    "]\n",
    "\n",
    "for url in urls:\n",
    "    while url:\n",
    "        response = requests.get(url, headers=headers)\n",
    "\n",
    "        if response.status_code != 200:\n",
    "            print(f\"Error: {response.status_code}\")\n",
    "\n",
    "        data = response.json()\n",
    "\n",
    "        combined_data.extend(data[\"data\"])\n",
    "\n",
    "        url = data[\"links\"].get(\"next\")\n",
    "\n",
    "directory = \"data\"\n",
    "file_path = os.path.join(directory, \"sampicaQuest_journals.json\")\n",
    "\n",
    "os.makedirs(directory, exist_ok=True)\n",
    "\n",
    "with open(file_path, \"w\") as outfile:\n",
    "    json.dump(combined_data, outfile)\n",
    "\n"
   ]
  }
 ],
 "metadata": {
  "kernelspec": {
   "display_name": ".venv",
   "language": "python",
   "name": "python3"
  },
  "language_info": {
   "codemirror_mode": {
    "name": "ipython",
    "version": 3
   },
   "file_extension": ".py",
   "mimetype": "text/x-python",
   "name": "python",
   "nbconvert_exporter": "python",
   "pygments_lexer": "ipython3",
   "version": "3.12.1"
  }
 },
 "nbformat": 4,
 "nbformat_minor": 2
}
