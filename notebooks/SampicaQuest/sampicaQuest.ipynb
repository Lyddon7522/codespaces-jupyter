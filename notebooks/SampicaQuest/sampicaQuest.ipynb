{
 "cells": [
  {
   "cell_type": "code",
   "execution_count": 2,
   "metadata": {},
   "outputs": [],
   "source": [
    "import json\n",
    "import re\n",
    "\n",
    "# Function to strip HTML tags\n",
    "def strip_html_tags(text):\n",
    "    clean = re.compile('<.*?>')\n",
    "    return re.sub(clean, '', text)\n",
    "\n",
    "# Load the JSON data\n",
    "with open('data/sampicaQuest_journals.json', 'r') as file:\n",
    "    data = json.load(file)\n",
    "\n",
    "# Clean the data\n",
    "cleaned_data = []\n",
    "for item in data:\n",
    "    cleaned_item = {\n",
    "        'id': item['id'],\n",
    "        'name': item['name'],\n",
    "        'entry_parsed': strip_html_tags(item['entry_parsed']),\n",
    "        'calendar_year': item['calendar_year'],\n",
    "        'calendar_month': item['calendar_month'],\n",
    "        'calendar_day': item['calendar_day']\n",
    "    }\n",
    "    cleaned_data.append(cleaned_item)\n",
    "\n",
    "# Save the cleaned data to a new JSON file\n",
    "with open('data/sampicaQuest_data.json', 'w') as file:\n",
    "    json.dump(cleaned_data, file, indent=4)"
   ]
  },
  {
   "cell_type": "code",
   "execution_count": null,
   "metadata": {},
   "outputs": [],
   "source": []
  }
 ],
 "metadata": {
  "kernelspec": {
   "display_name": ".venv",
   "language": "python",
   "name": "python3"
  },
  "language_info": {
   "codemirror_mode": {
    "name": "ipython",
    "version": 3
   },
   "file_extension": ".py",
   "mimetype": "text/x-python",
   "name": "python",
   "nbconvert_exporter": "python",
   "pygments_lexer": "ipython3",
   "version": "3.12.1"
  }
 },
 "nbformat": 4,
 "nbformat_minor": 2
}
